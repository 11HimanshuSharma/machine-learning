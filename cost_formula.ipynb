{
 "cells": [
  {
   "cell_type": "code",
   "execution_count": 1,
   "id": "833d5f94-c076-4255-ae3a-c46e4a244261",
   "metadata": {},
   "outputs": [],
   "source": [
    "import numpy as np"
   ]
  },
  {
   "cell_type": "code",
   "execution_count": 2,
   "id": "68a65904",
   "metadata": {},
   "outputs": [],
   "source": [
    "\n",
    "import matplotlib.pyplot as plt\n"
   ]
  },
  {
   "cell_type": "code",
   "execution_count": 8,
   "id": "67a7b60a",
   "metadata": {},
   "outputs": [],
   "source": [
    "x_train = np.array([1.0,2.0])\n",
    "y_train = np.array([300.0,500.0])"
   ]
  },
  {
   "cell_type": "code",
   "execution_count": 17,
   "id": "2d59fc8d",
   "metadata": {},
   "outputs": [],
   "source": [
    "def compute_cost(x,y,w,b):\n",
    "  m = x.shape[0]\n",
    "  cost_sum = 0\n",
    "  for i in range(m):\n",
    "    f_wb = w * x[i] + b\n",
    "    cost = (f_wb - y[i]) ** 2\n",
    "    cost_num = cost_num + cost\n",
    "  total_cost = (1/(2*m)) * cost_sum\n",
    "  return total_cost"
   ]
  },
  {
   "cell_type": "code",
   "execution_count": 18,
   "id": "980e09b5",
   "metadata": {},
   "outputs": [
    {
     "data": {
      "text/plain": [
       "<matplotlib.collections.PathCollection at 0x22fa3c50d70>"
      ]
     },
     "execution_count": 18,
     "metadata": {},
     "output_type": "execute_result"
    },
    {
     "data": {
      "image/png": "[encoded data removed]",
      "text/plain": [
       "<Figure size 640x480 with 1 Axes>"
      ]
     },
     "metadata": {},
     "output_type": "display_data"
    }
   ],
   "source": [
    "plt.scatter(x_train,y_train)"
   ]
  },
  {
   "cell_type": "code",
   "execution_count": 5,
   "id": "cf093676",
   "metadata": {},
   "outputs": [
    {
     "ename": "NameError",
     "evalue": "name 'plt_intuition' is not defined",
     "output_type": "error",
     "traceback": [
      "\u001b[1;31m---------------------------------------------------------------------------\u001b[0m",
      "\u001b[1;31mNameError\u001b[0m                                 Traceback (most recent call last)",
      "Cell \u001b[1;32mIn[5], line 1\u001b[0m\n\u001b[1;32m----> 1\u001b[0m \u001b[43mplt_intuition\u001b[49m(x_train,y_train)\n",
      "\u001b[1;31mNameError\u001b[0m: name 'plt_intuition' is not defined"
     ]
    }
   ],
   "source": [
    "plt_intuition(x_train,y_train)"
   ]
  },
  {
   "cell_type": "code",
   "execution_count": 6,
   "id": "532710f2",
   "metadata": {},
   "outputs": [],
   "source": [
    "x_train = np.array([1.0,1.7,2.0,2.5,3.0,3.2])\n",
    "y_train = np.array([250,300,480,430,630,730])"
   ]
  },
  {
   "cell_type": "code",
   "execution_count": 9,
   "id": "f742f8a4",
   "metadata": {},
   "outputs": [
    {
     "ename": "NameError",
     "evalue": "name 'plt_stationary' is not defined",
     "output_type": "error",
     "traceback": [
      "\u001b[1;31m---------------------------------------------------------------------------\u001b[0m",
      "\u001b[1;31mNameError\u001b[0m                                 Traceback (most recent call last)",
      "Cell \u001b[1;32mIn[9], line 2\u001b[0m\n\u001b[0;32m      1\u001b[0m plt\u001b[38;5;241m.\u001b[39mclose(\u001b[38;5;124m'\u001b[39m\u001b[38;5;124mall\u001b[39m\u001b[38;5;124m'\u001b[39m)\n\u001b[1;32m----> 2\u001b[0m fig, ax,dyn_items \u001b[38;5;241m=\u001b[39m \u001b[43mplt_stationary\u001b[49m(x_train,y_train)\n\u001b[0;32m      3\u001b[0m updater \u001b[38;5;241m=\u001b[39m plt_update_onclick(fig, ax, x_train,y_train,dyn_items)\n",
      "\u001b[1;31mNameError\u001b[0m: name 'plt_stationary' is not defined"
     ]
    }
   ],
   "source": [
    "plt.close('all')\n",
    "fig, ax,dyn_items = plt_stationary(x_train,y_train)\n",
    "updater = plt_update_onclick(fig, ax, x_train,y_train,dyn_items)"
   ]
  },
  {
   "cell_type": "code",
   "execution_count": null,
   "id": "54b6c99b",
   "metadata": {},
   "outputs": [],
   "source": []
  }
 ],
 "metadata": {
  "kernelspec": {
   "display_name": "Python 3 (ipykernel)",
   "language": "python",
   "name": "python3"
  },
  "language_info": {
   "codemirror_mode": {
    "name": "ipython",
    "version": 3
   },
   "file_extension": ".py",
   "mimetype": "text/x-python",
   "name": "python",
   "nbconvert_exporter": "python",
   "pygments_lexer": "ipython3",
   "version": "3.12.1"
  }
 },
 "nbformat": 4,
 "nbformat_minor": 5
}
