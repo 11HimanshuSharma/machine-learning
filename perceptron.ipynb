{
 "cells": [
  {
   "cell_type": "code",
   "execution_count": 1,
   "metadata": {},
   "outputs": [],
   "source": [
    "import numpy as np\n"
   ]
  },
  {
   "cell_type": "code",
   "execution_count": 5,
   "metadata": {},
   "outputs": [],
   "source": [
    "class perceptron(object):\n",
    "  def __init__(self,eta=0.01,n_iter = 50,random_state = 1):\n",
    "    self.eta = eta ## Learning rate by default = 0.01\n",
    "    self.n_iter = n_iter #epochs = 50\n",
    "    self.random_state = random_state #support shuffling of training data\n",
    "  \n",
    "  def fit(self,x,y): #gradient descent to decrease the error\n",
    "    rgen = np.random.RandomState(self.random_state)\n",
    "    self.w_ = rgen.normal(loc=0.0, scale = 0.01,size = 1+ x.shape[1])\n",
    "    self.errors_ = []\n",
    "    for _ in range(self.n_iter):\n",
    "      error = 0\n",
    "    for xi, target in zip(x,y):\n",
    "      update = self.eta * (target - self.predict(xi));\n",
    "      self.w_[1:] += update * xi\n",
    "      errors += int(update != 0.0)\n",
    "      self.errors_.append(errors)\n",
    "    return self"
   ]
  },
  {
   "cell_type": "code",
   "execution_count": 6,
   "metadata": {},
   "outputs": [],
   "source": [
    "def net_input(self,x):\n",
    "  return np.dot(x, self.w_[1:]) + self.w_[0]"
   ]
  },
  {
   "cell_type": "code",
   "execution_count": 7,
   "metadata": {},
   "outputs": [],
   "source": [
    "def predict(self,x):\n",
    "  return np.where(self.net_input(x) >= 0.0, 1, -1)"
   ]
  },
  {
   "cell_type": "code",
   "execution_count": 8,
   "metadata": {},
   "outputs": [],
   "source": [
    "from sklearn import datasets"
   ]
  },
  {
   "cell_type": "code",
   "execution_count": null,
   "metadata": {},
   "outputs": [],
   "source": [
    "import numpy as np\n",
    "iris = datasets.load_iris()"
   ]
  }
 ],
 "metadata": {
  "kernelspec": {
   "display_name": "Python 3",
   "language": "python",
   "name": "python3"
  },
  "language_info": {
   "codemirror_mode": {
    "name": "ipython",
    "version": 3
   },
   "file_extension": ".py",
   "mimetype": "text/x-python",
   "name": "python",
   "nbconvert_exporter": "python",
   "pygments_lexer": "ipython3",
   "version": "3.12.1"
  }
 },
 "nbformat": 4,
 "nbformat_minor": 2
}
